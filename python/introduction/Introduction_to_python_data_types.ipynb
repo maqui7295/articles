{
 "cells": [
  {
   "cell_type": "markdown",
   "metadata": {},
   "source": [
    "# Introduction to Python Programming"
   ]
  },
  {
   "cell_type": "markdown",
   "metadata": {},
   "source": [
    "## Table of Contents\n",
    "\n",
    "- [Why Python](#why-python)\n",
    "- [Data Types and Operators](#data-types-operators)\n",
    "    - [Integers and Floats](#ints-floats)\n",
    "    - [Boolean Data Type](#bool)\n",
    "    - [Strings](#strings)\n",
    "- [Types and Type Conversions](#types)"
   ]
  },
  {
   "cell_type": "markdown",
   "metadata": {},
   "source": [
    "## Why Python\n",
    "<a id=\"why-python\"></a>\n",
    "You would want to learn python because it:\n",
    "\n",
    "- has easy / concise / readable syntax,\n",
    "- is interpreted - You see the results of your program without needing compilation,\n",
    "- supports programming paradigms (procedural, object oriented, functional),\n",
    "- has versatile use (web, data analytics, ML, embedded, desktop, security etc.) and\n",
    "- is popular"
   ]
  },
  {
   "cell_type": "markdown",
   "metadata": {},
   "source": [
    "## Installing Python"
   ]
  },
  {
   "cell_type": "markdown",
   "metadata": {},
   "source": [
    "Go to [here](https://www.python.org/downloads/) to download python for your operating system e.g Windows OS. Then click the download file and follow the prompt to install it. In the installation prompt, make sure you check **Add Python to PATH** so you can assess the program anywhere when using the commandline and to make it easier for code editors like [VSCode](https://code.visualstudio.com/download) to find and use python.\n",
    "\n",
    "Next, install a code editor like [VSCode](https://code.visualstudio.com/download) or an IDE like [Pycharm](https://www.jetbrains.com/pycharm/). They make writing python easier. VSCode is lighter and should be used especially when you're using a not-so-fast machine."
   ]
  },
  {
   "cell_type": "markdown",
   "metadata": {},
   "source": [
    "## Data Types and Operators\n",
    "<a id=\"data-types-operators\"></a>\n",
    "\n",
    "The basic data or value types in python are `integers, floats, booleans and strings`. A good understanding these basic types provides a rich foundation for writing compound and complex programs.\n",
    "\n",
    "**Note: There is a special type called `None`. It represents the absence of a value.**\n",
    "\n",
    "### TLDR;\n",
    "\n",
    "- Numeric types are either by nature whole (i.e. `integers`) or contain decimal places (`floats`).\n",
    "- You can perform **arithmetics operations** on integers and floats using `+ - * / %`.\n",
    "- Booleans e.g. True and False are used to influence the direction or flow of a program.\n",
    "- Comparison operators (`> < >= <= == !=`) and logical operators (`and or not`) yield booleans.\n",
    "- Strings are **immutable sequences** of characters enclosed in single or double  quotes.\n",
    "- Common string operations include concatenation, indexing and slicing.\n",
    "- Common string methods include `replace`, `strip`, `format`, `lower`, `upper` and `title`.\n",
    "- To check the type of a value, use the `type`function.\n",
    "- `int`, `float` and `str` can be used for type conversions."
   ]
  },
  {
   "cell_type": "markdown",
   "metadata": {},
   "source": [
    "### Integers and Floats\n",
    "<a id=\"ints-floats\"></a>\n",
    "\n",
    "In python, numbers might be whole (**integers**) or might contain decimal places (**floats**). You can use these types to represent attributes like _age_, _height_, _weight_ as well as concepts like _temperature_, _price_ and so on. Addition information can be found [here](https://docs.python.org/3/library/stdtypes.html)."
   ]
  },
  {
   "cell_type": "markdown",
   "metadata": {},
   "source": [
    "#### Creation"
   ]
  },
  {
   "cell_type": "markdown",
   "metadata": {},
   "source": [
    "You can type the number literally e.g 15, 23, 56, etc or use the `int` or `float` function (more on this later)."
   ]
  },
  {
   "cell_type": "code",
   "execution_count": 1,
   "metadata": {},
   "outputs": [],
   "source": [
    "# Age in years\n",
    "age = 54\n",
    "\n",
    "# let's say height in feet\n",
    "height = 7.2"
   ]
  },
  {
   "cell_type": "markdown",
   "metadata": {},
   "source": [
    ">The line beginning with *#* is called a **comment**. Python ignores it. So you can use it document your code for yourself and others.\n",
    "\n",
    ">`age` and `height` above are called **variables**. A variable in python is created using the assignment operator (`=`). There are rules for naming variables. Basically, they shouldn't be **reserved keywords** in python and should start with letters and underscores but not numbers. Read [here](https://realpython.com/lessons/reserved-keywords/) for more information. "
   ]
  },
  {
   "cell_type": "markdown",
   "metadata": {},
   "source": [
    "#### Operations\n",
    "\n",
    "The most basic operation we perform with these types is **arithmetics**. For example:"
   ]
  },
  {
   "cell_type": "code",
   "execution_count": 2,
   "metadata": {},
   "outputs": [
    {
     "data": {
      "text/plain": [
       "8"
      ]
     },
     "execution_count": 2,
     "metadata": {},
     "output_type": "execute_result"
    }
   ],
   "source": [
    "# Addition (with the + operator)\n",
    "2 + 6"
   ]
  },
  {
   "cell_type": "code",
   "execution_count": 3,
   "metadata": {},
   "outputs": [
    {
     "data": {
      "text/plain": [
       "36"
      ]
     },
     "execution_count": 3,
     "metadata": {},
     "output_type": "execute_result"
    }
   ],
   "source": [
    "# Multiplication\n",
    "4 * 9"
   ]
  },
  {
   "cell_type": "markdown",
   "metadata": {},
   "source": [
    "> The arimethic operators include `+, -, *, /, %`. The modulo (%) operator is used for **remainder** division. For example, you can use it to check if a number is *even* or *odd* or a *multiple of 5* and so on."
   ]
  },
  {
   "cell_type": "code",
   "execution_count": 4,
   "metadata": {},
   "outputs": [
    {
     "data": {
      "text/plain": [
       "3.3333333333333335"
      ]
     },
     "execution_count": 4,
     "metadata": {},
     "output_type": "execute_result"
    }
   ],
   "source": [
    "# Normal division\n",
    "\n",
    "10 / 3"
   ]
  },
  {
   "cell_type": "code",
   "execution_count": 5,
   "metadata": {},
   "outputs": [
    {
     "data": {
      "text/plain": [
       "2"
      ]
     },
     "execution_count": 5,
     "metadata": {},
     "output_type": "execute_result"
    }
   ],
   "source": [
    "# The remainder of 8/3 is 2\n",
    "8 % 3"
   ]
  },
  {
   "cell_type": "code",
   "execution_count": 6,
   "metadata": {},
   "outputs": [],
   "source": [
    "#============ Try yours ==============="
   ]
  },
  {
   "cell_type": "markdown",
   "metadata": {},
   "source": [
    ">In order to use the `integers` and `floats` in several places as well as to communicate your intent, you need to give them a name or asign them to a **variable**. This is applicable to every other data types."
   ]
  },
  {
   "cell_type": "code",
   "execution_count": 7,
   "metadata": {},
   "outputs": [],
   "source": [
    "number_of_fish = 20\n",
    "\n",
    "temp_celcius = 100\n",
    "\n",
    "amount = 5.2"
   ]
  },
  {
   "cell_type": "code",
   "execution_count": 8,
   "metadata": {},
   "outputs": [
    {
     "data": {
      "text/plain": [
       "104.0"
      ]
     },
     "execution_count": 8,
     "metadata": {},
     "output_type": "execute_result"
    }
   ],
   "source": [
    "total_price = number_of_fish * amount\n",
    "\n",
    "total_price"
   ]
  },
  {
   "cell_type": "markdown",
   "metadata": {},
   "source": [
    "### Boolean Data Type\n",
    "<a id=\"bools\"></a>\n",
    "This represents the truthiness of a value. Simply, `True` and `False`"
   ]
  },
  {
   "cell_type": "markdown",
   "metadata": {},
   "source": [
    "#### Creation"
   ]
  },
  {
   "cell_type": "code",
   "execution_count": 9,
   "metadata": {},
   "outputs": [
    {
     "name": "stdout",
     "output_type": "stream",
     "text": [
      "True False\n",
      "True\n"
     ]
    },
    {
     "data": {
      "text/plain": [
       "False"
      ]
     },
     "execution_count": 9,
     "metadata": {},
     "output_type": "execute_result"
    }
   ],
   "source": [
    "#1 By literal boolean assignment\n",
    "\n",
    "is_sweet = True\n",
    "is_bitter = False\n",
    "\n",
    "print(is_sweet, is_bitter)\n",
    "\n",
    "#2 From the result of a comparison or logical operation\n",
    "\n",
    "# comparison\n",
    "three_is_bigger_than_2 = 3 > 2\n",
    "print(three_is_bigger_than_2)\n",
    "\n",
    "# logical\n",
    "is_bitter and is_sweet"
   ]
  },
  {
   "cell_type": "markdown",
   "metadata": {},
   "source": [
    "#### Operations\n",
    "\n",
    "The comparison operators includes equal `==`, not-equal `!=`, less-than `<`, greater-than `>`, greater-than-or-equal `>=`, and less-than-or-equal `<=`."
   ]
  },
  {
   "cell_type": "code",
   "execution_count": 10,
   "metadata": {},
   "outputs": [
    {
     "data": {
      "text/plain": [
       "True"
      ]
     },
     "execution_count": 10,
     "metadata": {},
     "output_type": "execute_result"
    }
   ],
   "source": [
    "3 == 3"
   ]
  },
  {
   "cell_type": "code",
   "execution_count": 11,
   "metadata": {},
   "outputs": [
    {
     "data": {
      "text/plain": [
       "True"
      ]
     },
     "execution_count": 11,
     "metadata": {},
     "output_type": "execute_result"
    }
   ],
   "source": [
    "6 != 7"
   ]
  },
  {
   "cell_type": "code",
   "execution_count": 12,
   "metadata": {},
   "outputs": [
    {
     "data": {
      "text/plain": [
       "False"
      ]
     },
     "execution_count": 12,
     "metadata": {},
     "output_type": "execute_result"
    }
   ],
   "source": [
    "8 > 18"
   ]
  },
  {
   "cell_type": "code",
   "execution_count": 13,
   "metadata": {},
   "outputs": [
    {
     "data": {
      "text/plain": [
       "True"
      ]
     },
     "execution_count": 13,
     "metadata": {},
     "output_type": "execute_result"
    }
   ],
   "source": [
    "2 < 10"
   ]
  },
  {
   "cell_type": "code",
   "execution_count": 14,
   "metadata": {},
   "outputs": [
    {
     "data": {
      "text/plain": [
       "True"
      ]
     },
     "execution_count": 14,
     "metadata": {},
     "output_type": "execute_result"
    }
   ],
   "source": [
    "# what's the answer\n",
    "100 >= 45"
   ]
  },
  {
   "cell_type": "code",
   "execution_count": 15,
   "metadata": {},
   "outputs": [
    {
     "data": {
      "text/plain": [
       "True"
      ]
     },
     "execution_count": 15,
     "metadata": {},
     "output_type": "execute_result"
    }
   ],
   "source": [
    "number_1 = 45\n",
    "number_2 = 67\n",
    "\n",
    "number_1 <= number_2"
   ]
  },
  {
   "cell_type": "markdown",
   "metadata": {},
   "source": [
    "The logical operators includes `and`, `or` and `not`. For a `and operation` to be true, **both sides or operands must be true**. For an `or operation` to be true, **one side (operand) just needs to be true**.\n",
    "\n",
    "- True  `and` True  is True\n",
    "- True  `and` False is False\n",
    "- False `and` True  is False\n",
    "- False `and` False is False\n",
    "<br />\n",
    "\n",
    "- True  `or` True  is True\n",
    "- True  `or` False is True\n",
    "- False `or` True  is True\n",
    "- False `or` False is False"
   ]
  },
  {
   "cell_type": "code",
   "execution_count": 16,
   "metadata": {},
   "outputs": [
    {
     "data": {
      "text/plain": [
       "False"
      ]
     },
     "execution_count": 16,
     "metadata": {},
     "output_type": "execute_result"
    }
   ],
   "source": [
    "is_sweet and is_bitter"
   ]
  },
  {
   "cell_type": "code",
   "execution_count": 17,
   "metadata": {},
   "outputs": [
    {
     "data": {
      "text/plain": [
       "True"
      ]
     },
     "execution_count": 17,
     "metadata": {},
     "output_type": "execute_result"
    }
   ],
   "source": [
    "is_sweet or is_bitter"
   ]
  },
  {
   "cell_type": "markdown",
   "metadata": {},
   "source": [
    "### Strings\n",
    "<a id=\"strings\"></a>"
   ]
  },
  {
   "cell_type": "markdown",
   "metadata": {},
   "source": [
    "A string is a set of characters (letters, numbers and symbols) surrounded by single `''` or double `\"\"` quotes. They are very useful for identifying and grouping items in data analytics (e.g categorical data are often strings) as well as in reports. A major property of strings is that they are **immutable**. Strings are also **ordered sequences** and can be counted.\n",
    ">**Ordered Sequence**: This means that the elements in the sequence all have a position or **index**. The first element has an index value 0."
   ]
  },
  {
   "cell_type": "markdown",
   "metadata": {},
   "source": [
    "#### Creation"
   ]
  },
  {
   "cell_type": "code",
   "execution_count": 18,
   "metadata": {},
   "outputs": [],
   "source": [
    "# using double quotes\n",
    "name = \"John Doe\"\n",
    "occupation = \"Data analyst\""
   ]
  },
  {
   "cell_type": "code",
   "execution_count": 19,
   "metadata": {},
   "outputs": [],
   "source": [
    "# using single quotes\n",
    "\n",
    "address = 'somewhere beyond the earth'"
   ]
  },
  {
   "cell_type": "code",
   "execution_count": 20,
   "metadata": {},
   "outputs": [
    {
     "data": {
      "text/plain": [
       "'Hello \"John\"'"
      ]
     },
     "execution_count": 20,
     "metadata": {},
     "output_type": "execute_result"
    }
   ],
   "source": [
    "# Why this? Read about escaping strings or escape sequence. Google is your friend\n",
    "\n",
    "\"Hello 'John'\"\n",
    "\n",
    "'Hello \"John\"'\n",
    "\n",
    "'Hello \\'John\\''\n",
    "\n",
    "\"Hello \\\"John\\\"\""
   ]
  },
  {
   "cell_type": "markdown",
   "metadata": {},
   "source": [
    "#### Operations"
   ]
  },
  {
   "cell_type": "markdown",
   "metadata": {},
   "source": [
    "##### Counting"
   ]
  },
  {
   "cell_type": "code",
   "execution_count": 21,
   "metadata": {},
   "outputs": [
    {
     "data": {
      "text/plain": [
       "26"
      ]
     },
     "execution_count": 21,
     "metadata": {},
     "output_type": "execute_result"
    }
   ],
   "source": [
    "len(address)"
   ]
  },
  {
   "cell_type": "markdown",
   "metadata": {},
   "source": [
    "##### Concatenation (adding strings)"
   ]
  },
  {
   "cell_type": "code",
   "execution_count": 22,
   "metadata": {},
   "outputs": [
    {
     "data": {
      "text/plain": [
       "'Hello my name is John Doe.I am a aData analyst'"
      ]
     },
     "execution_count": 22,
     "metadata": {},
     "output_type": "execute_result"
    }
   ],
   "source": [
    "#1 with the + operator\n",
    "\n",
    "\"Hello my name is\" + \" \" + name + \".\" + \"I am a a\" + occupation"
   ]
  },
  {
   "cell_type": "code",
   "execution_count": 23,
   "metadata": {},
   "outputs": [
    {
     "data": {
      "text/plain": [
       "'Hello my name is John'"
      ]
     },
     "execution_count": 23,
     "metadata": {},
     "output_type": "execute_result"
    }
   ],
   "source": [
    "#2 placing string literals side by side\n",
    "\n",
    "\"Hello my name is \" \"John\""
   ]
  },
  {
   "cell_type": "code",
   "execution_count": 24,
   "metadata": {},
   "outputs": [
    {
     "data": {
      "text/plain": [
       "'My name is John Doe and I work as a Data analyst. I live somewhere beyond the earth!'"
      ]
     },
     "execution_count": 24,
     "metadata": {},
     "output_type": "execute_result"
    }
   ],
   "source": [
    "#3. Using string format method\n",
    "\n",
    "\"My name is {} and I work as a {}. I live {}!\".format(name, occupation, address)"
   ]
  },
  {
   "cell_type": "code",
   "execution_count": 25,
   "metadata": {},
   "outputs": [
    {
     "data": {
      "text/plain": [
       "'John DoeJohn DoeJohn DoeJohn DoeJohn Doe'"
      ]
     },
     "execution_count": 25,
     "metadata": {},
     "output_type": "execute_result"
    }
   ],
   "source": [
    "# using the * operator\n",
    "\n",
    "name * 5"
   ]
  },
  {
   "cell_type": "markdown",
   "metadata": {},
   "source": [
    "##### Indexing and Slicing"
   ]
  },
  {
   "cell_type": "code",
   "execution_count": 26,
   "metadata": {},
   "outputs": [
    {
     "data": {
      "text/plain": [
       "'h'"
      ]
     },
     "execution_count": 26,
     "metadata": {},
     "output_type": "execute_result"
    }
   ],
   "source": [
    "# indexing\n",
    "# The letter in the 3rd position is 'h'\n",
    "name[2]"
   ]
  },
  {
   "cell_type": "code",
   "execution_count": 27,
   "metadata": {},
   "outputs": [
    {
     "name": "stdout",
     "output_type": "stream",
     "text": [
      "First position: J\n",
      "Last position: e\n"
     ]
    }
   ],
   "source": [
    "print('First position:', name[0])\n",
    "\n",
    "# last position\n",
    "print('Last position:', name[-1])"
   ]
  },
  {
   "cell_type": "code",
   "execution_count": 28,
   "metadata": {},
   "outputs": [
    {
     "data": {
      "text/plain": [
       "'Joh'"
      ]
     },
     "execution_count": 28,
     "metadata": {},
     "output_type": "execute_result"
    }
   ],
   "source": [
    "# Slicing\n",
    "\n",
    "# take from 1st to 3rd (inclusive)\n",
    "\n",
    "name[0: 3]"
   ]
  },
  {
   "cell_type": "code",
   "execution_count": 29,
   "metadata": {},
   "outputs": [
    {
     "data": {
      "text/plain": [
       "'n Doe'"
      ]
     },
     "execution_count": 29,
     "metadata": {},
     "output_type": "execute_result"
    }
   ],
   "source": [
    "# slice from 4th to the end\n",
    "name[3: ]"
   ]
  },
  {
   "cell_type": "markdown",
   "metadata": {},
   "source": [
    "#### Practice Indexing and Slicing"
   ]
  },
  {
   "cell_type": "code",
   "execution_count": null,
   "metadata": {},
   "outputs": [],
   "source": []
  },
  {
   "cell_type": "code",
   "execution_count": null,
   "metadata": {},
   "outputs": [],
   "source": []
  },
  {
   "cell_type": "markdown",
   "metadata": {},
   "source": [
    "#### String methods"
   ]
  },
  {
   "cell_type": "code",
   "execution_count": 30,
   "metadata": {},
   "outputs": [
    {
     "data": {
      "text/plain": [
       "'Mary Doe'"
      ]
     },
     "execution_count": 30,
     "metadata": {},
     "output_type": "execute_result"
    }
   ],
   "source": [
    "# replace\n",
    "new_name = name.replace(\"John\", \"Mary\")\n",
    "\n",
    "new_name"
   ]
  },
  {
   "cell_type": "code",
   "execution_count": 31,
   "metadata": {},
   "outputs": [
    {
     "data": {
      "text/plain": [
       "'John Doe'"
      ]
     },
     "execution_count": 31,
     "metadata": {},
     "output_type": "execute_result"
    }
   ],
   "source": [
    "# The original name is not affected\n",
    "name"
   ]
  },
  {
   "cell_type": "code",
   "execution_count": 32,
   "metadata": {},
   "outputs": [
    {
     "data": {
      "text/plain": [
       "'JOHN DOE'"
      ]
     },
     "execution_count": 32,
     "metadata": {},
     "output_type": "execute_result"
    }
   ],
   "source": [
    "# upper\n",
    "name.upper()"
   ]
  },
  {
   "cell_type": "code",
   "execution_count": 33,
   "metadata": {},
   "outputs": [
    {
     "data": {
      "text/plain": [
       "'mary doe'"
      ]
     },
     "execution_count": 33,
     "metadata": {},
     "output_type": "execute_result"
    }
   ],
   "source": [
    "# lower\n",
    "new_name.lower()"
   ]
  },
  {
   "cell_type": "code",
   "execution_count": 34,
   "metadata": {},
   "outputs": [
    {
     "data": {
      "text/plain": [
       "'This string has lots of space. So trim it.'"
      ]
     },
     "execution_count": 34,
     "metadata": {},
     "output_type": "execute_result"
    }
   ],
   "source": [
    "# strip method\n",
    "\"   This string has lots of space. So trim it.   \".strip()"
   ]
  },
  {
   "cell_type": "code",
   "execution_count": 35,
   "metadata": {},
   "outputs": [
    {
     "data": {
      "text/plain": [
       "'Ohn'"
      ]
     },
     "execution_count": 35,
     "metadata": {},
     "output_type": "execute_result"
    }
   ],
   "source": [
    "# We can chain multiple methods: convert to upper then replace 'DOE' with an empty string\n",
    "# Then remove the extra with space and slice the string starting from position 1 to the end\n",
    "# Then convert the slice to a title-case string\n",
    "\n",
    "name.upper().replace('DOE', '').strip()[1: ].title()"
   ]
  },
  {
   "cell_type": "markdown",
   "metadata": {},
   "source": [
    "#### Write yours\n",
    "\n",
    "Use this [documentation](https://docs.python.org/3/library/stdtypes.html#str) as a guide. You'll find `startswith`, `endswith` and others. "
   ]
  },
  {
   "cell_type": "code",
   "execution_count": null,
   "metadata": {},
   "outputs": [],
   "source": []
  },
  {
   "cell_type": "code",
   "execution_count": null,
   "metadata": {},
   "outputs": [],
   "source": []
  },
  {
   "cell_type": "code",
   "execution_count": null,
   "metadata": {},
   "outputs": [],
   "source": []
  },
  {
   "cell_type": "code",
   "execution_count": null,
   "metadata": {},
   "outputs": [],
   "source": []
  },
  {
   "cell_type": "markdown",
   "metadata": {},
   "source": [
    "## Types and Type Conversions\n",
    "<a id=\"types\"></a>\n",
    "\n",
    "\n",
    "### Types\n",
    "\n",
    "In python, you can check the type of a value using the `type` function. For example"
   ]
  },
  {
   "cell_type": "code",
   "execution_count": 36,
   "metadata": {},
   "outputs": [
    {
     "data": {
      "text/plain": [
       "str"
      ]
     },
     "execution_count": 36,
     "metadata": {},
     "output_type": "execute_result"
    }
   ],
   "source": [
    "type(\"a string\")"
   ]
  },
  {
   "cell_type": "code",
   "execution_count": 37,
   "metadata": {},
   "outputs": [
    {
     "data": {
      "text/plain": [
       "'John Doe'"
      ]
     },
     "execution_count": 37,
     "metadata": {},
     "output_type": "execute_result"
    }
   ],
   "source": [
    "name"
   ]
  },
  {
   "cell_type": "code",
   "execution_count": 38,
   "metadata": {},
   "outputs": [
    {
     "data": {
      "text/plain": [
       "str"
      ]
     },
     "execution_count": 38,
     "metadata": {},
     "output_type": "execute_result"
    }
   ],
   "source": [
    "# we created the name variable above\n",
    "type(name)"
   ]
  },
  {
   "cell_type": "code",
   "execution_count": 39,
   "metadata": {},
   "outputs": [
    {
     "data": {
      "text/plain": [
       "int"
      ]
     },
     "execution_count": 39,
     "metadata": {},
     "output_type": "execute_result"
    }
   ],
   "source": [
    "type(age)"
   ]
  },
  {
   "cell_type": "code",
   "execution_count": 40,
   "metadata": {},
   "outputs": [
    {
     "data": {
      "text/plain": [
       "float"
      ]
     },
     "execution_count": 40,
     "metadata": {},
     "output_type": "execute_result"
    }
   ],
   "source": [
    "# remember that height contained decimal places\n",
    "type(height)"
   ]
  },
  {
   "cell_type": "markdown",
   "metadata": {},
   "source": [
    "### Type Conversions\n",
    "\n",
    "Use the `int`, `float` and `str` function to convert a value to an integer, float and string respectively.\n",
    "\n",
    "**Note the the `int` or `float` function can fail if it receives a value it cannot convert (an invalid type)**"
   ]
  },
  {
   "cell_type": "code",
   "execution_count": 41,
   "metadata": {},
   "outputs": [],
   "source": [
    "my_int = 45\n",
    "my_float = 45.2\n",
    "my_string = \"12.234\""
   ]
  },
  {
   "cell_type": "markdown",
   "metadata": {},
   "source": [
    ">The `input` function takes user input from the console and returns a string. There if you ask users for integers/floats e.g age and amount, you should convert the input with the appropriate function i.e.`int` or `float` respectively."
   ]
  },
  {
   "cell_type": "code",
   "execution_count": 48,
   "metadata": {},
   "outputs": [
    {
     "name": "stdout",
     "output_type": "stream",
     "text": [
      "my_string: '12.234'' is of type '<class 'str'>'\n",
      "my_string_is_now_a_float: '12.234'' is of type '<class 'float'>'\n"
     ]
    }
   ],
   "source": [
    "my_string_is_now_a_float = float(my_string)\n",
    "\n",
    "print(\"my_string: '{}'' is of type '{}'\".format(my_string, type(my_string)))\n",
    "print(\"my_string_is_now_a_float: '{}'' is of type '{}'\".format(my_string_is_now_a_float, type(my_string_is_now_a_float)))"
   ]
  },
  {
   "cell_type": "code",
   "execution_count": 50,
   "metadata": {},
   "outputs": [
    {
     "data": {
      "text/plain": [
       "45.0"
      ]
     },
     "execution_count": 50,
     "metadata": {},
     "output_type": "execute_result"
    }
   ],
   "source": [
    "# convert integer to float\n",
    "float(my_int)"
   ]
  },
  {
   "cell_type": "code",
   "execution_count": 51,
   "metadata": {},
   "outputs": [
    {
     "data": {
      "text/plain": [
       "45"
      ]
     },
     "execution_count": 51,
     "metadata": {},
     "output_type": "execute_result"
    }
   ],
   "source": [
    "# convert float to integer - decimal place is lost\n",
    "int(my_float)"
   ]
  },
  {
   "cell_type": "code",
   "execution_count": 52,
   "metadata": {},
   "outputs": [
    {
     "data": {
      "text/plain": [
       "12"
      ]
     },
     "execution_count": 52,
     "metadata": {},
     "output_type": "execute_result"
    }
   ],
   "source": [
    "# convert float to integer - decimal place is lost\n",
    "int(my_string_is_now_a_float)"
   ]
  },
  {
   "cell_type": "code",
   "execution_count": 54,
   "metadata": {},
   "outputs": [
    {
     "data": {
      "text/plain": [
       "'45'"
      ]
     },
     "execution_count": 54,
     "metadata": {},
     "output_type": "execute_result"
    }
   ],
   "source": [
    "# convert integer to string\n",
    "str(my_int)"
   ]
  },
  {
   "cell_type": "code",
   "execution_count": 55,
   "metadata": {},
   "outputs": [
    {
     "data": {
      "text/plain": [
       "'45.2'"
      ]
     },
     "execution_count": 55,
     "metadata": {},
     "output_type": "execute_result"
    }
   ],
   "source": [
    "# convert float to string\n",
    "str(my_float)"
   ]
  }
 ],
 "metadata": {
  "kernelspec": {
   "display_name": "Python 3",
   "language": "python",
   "name": "python3"
  },
  "language_info": {
   "codemirror_mode": {
    "name": "ipython",
    "version": 3
   },
   "file_extension": ".py",
   "mimetype": "text/x-python",
   "name": "python",
   "nbconvert_exporter": "python",
   "pygments_lexer": "ipython3",
   "version": "3.7.6"
  }
 },
 "nbformat": 4,
 "nbformat_minor": 5
}
